{
 "cells": [
  {
   "cell_type": "markdown",
   "id": "royal-discretion",
   "metadata": {},
   "source": [
    "## Leetcode Problems May onwards"
   ]
  },
  {
   "cell_type": "markdown",
   "id": "naughty-latin",
   "metadata": {},
   "source": [
    "## Prefix and Suffix Search\n",
    "\n",
    "Design a special dictionary which has some words and allows you to search the words in it by a prefix and a suffix.\n",
    "\n",
    "Implement the WordFilter class:\n",
    "\n",
    "- WordFilter(string[] words) Initializes the object with the words in the dictionary.\n",
    "- f(string prefix, string suffix) Returns the index of the word in the dictionary which has the prefix prefix and the suffix suffix. If there is more than one valid index, return the largest of them. If there is no such word in the dictionary, return -1."
   ]
  },
  {
   "cell_type": "markdown",
   "id": "powerful-process",
   "metadata": {},
   "source": [
    "Input\n",
    "[\"WordFilter\", \"f\"]\n",
    "[[[\"apple\"]], [\"a\", \"e\"]]\n",
    "\n",
    "Output\n",
    "[null, 0]\n",
    "\n",
    "\n",
    "Explanation\n",
    "\n",
    "WordFilter wordFilter = new WordFilter([\"apple\"]);\n",
    "wordFilter.f(\"a\", \"e\"); // return 0, because the word at index 0 has prefix = \"a\" and suffix = 'e\"."
   ]
  },
  {
   "cell_type": "markdown",
   "id": "emotional-uzbekistan",
   "metadata": {},
   "source": [
    "Constraints:\n",
    "\n",
    "- 1 <= words.length <= 15000\n",
    "- 1 <= words[i].length <= 10\n",
    "- 1 <= prefix.length, suffix.length <= 10\n",
    "words[i], prefix and suffix consist of lower-case English letters only.\n",
    "- At most 15000 calls will be made to the function f."
   ]
  },
  {
   "cell_type": "code",
   "execution_count": null,
   "id": "closed-europe",
   "metadata": {},
   "outputs": [],
   "source": []
  }
 ],
 "metadata": {
  "kernelspec": {
   "display_name": "Python 3",
   "language": "python",
   "name": "python3"
  },
  "language_info": {
   "codemirror_mode": {
    "name": "ipython",
    "version": 3
   },
   "file_extension": ".py",
   "mimetype": "text/x-python",
   "name": "python",
   "nbconvert_exporter": "python",
   "pygments_lexer": "ipython3",
   "version": "3.8.8"
  }
 },
 "nbformat": 4,
 "nbformat_minor": 5
}
