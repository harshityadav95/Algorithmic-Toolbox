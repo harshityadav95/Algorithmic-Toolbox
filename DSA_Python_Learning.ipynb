{
 "cells": [
  {
   "cell_type": "markdown",
   "metadata": {
    "colab_type": "text",
    "id": "view-in-github"
   },
   "source": [
    "<a href=\"https://colab.research.google.com/github/harshityadav95/Algorithmic-Toolbox/blob/master/DSA_Python_Learning.ipynb\" target=\"_parent\"><img src=\"https://colab.research.google.com/assets/colab-badge.svg\" alt=\"Open In Colab\"/></a>"
   ]
  },
  {
   "cell_type": "markdown",
   "metadata": {
    "id": "o1IwyGlghKzc"
   },
   "source": [
    "## Basic Program to Add two numbers\n"
   ]
  },
  {
   "cell_type": "code",
   "execution_count": 1,
   "metadata": {
    "colab": {
     "base_uri": "https://localhost:8080/"
    },
    "id": "e50-INwNhDeQ",
    "outputId": "998f001e-bd46-49ef-cec3-d07994227eec"
   },
   "outputs": [
    {
     "name": "stdout",
     "output_type": "stream",
     "text": [
      "2 3\n",
      "5\n"
     ]
    }
   ],
   "source": [
    "def sum_of_two_digits(first_digit, second_digit):\n",
    "    return first_digit + second_digit\n",
    "\n",
    "if __name__ == '__main__':\n",
    "    a, b = map(int, input().split())\n",
    "    print(sum_of_two_digits(a, b))"
   ]
  },
  {
   "cell_type": "markdown",
   "metadata": {
    "id": "mo8cV7sWtM6J"
   },
   "source": [
    "## Maximum Product of two numbers in the Given list\n"
   ]
  },
  {
   "cell_type": "code",
   "execution_count": 4,
   "metadata": {
    "id": "5hyqQ3JItVlc"
   },
   "outputs": [
    {
     "name": "stdout",
     "output_type": "stream",
     "text": [
      "5\n",
      "9 1 1 1 1\n",
      "9\n"
     ]
    }
   ],
   "source": [
    "def maxProduct(numbers):\n",
    "    numbers.sort()\n",
    "    return(numbers[-1]*numbers[-2])\n",
    "\n",
    "if __name__==\"__main__\":\n",
    "    n=int(input())\n",
    "    list_numbers=[int(x) for x in input().split()]\n",
    "    print(maxProduct(list_numbers))    "
   ]
  },
  {
   "cell_type": "markdown",
   "metadata": {},
   "source": [
    "## Find the nth Fibonacci Number\n",
    "\n",
    "-- this creates tree stack which hits the memory limitation of the stack, like in c++ there is stack memory limit of 1 MB and which can be overriden\n"
   ]
  },
  {
   "cell_type": "code",
   "execution_count": 13,
   "metadata": {},
   "outputs": [
    {
     "name": "stdout",
     "output_type": "stream",
     "text": [
      "13\n",
      "233\n",
      "Wall time: 3.23 s\n"
     ]
    }
   ],
   "source": [
    "%%time\n",
    "def fibo(number):\n",
    "    if number<=1:\n",
    "        return number\n",
    "    else:\n",
    "        return fibo(number-1)+fibo(number-2)\n",
    "if __name__==\"__main__\":\n",
    "    number=int(input())\n",
    "    print(fibo(number))"
   ]
  },
  {
   "cell_type": "markdown",
   "metadata": {},
   "source": [
    "## Fast way to find Nth Fibonacci Number\n",
    "\n",
    "- this uses the iterative approach and uses less timer and can utilize the system RAM to utilize \n"
   ]
  },
  {
   "cell_type": "code",
   "execution_count": 28,
   "metadata": {},
   "outputs": [
    {
     "name": "stdout",
     "output_type": "stream",
     "text": [
      "60\n",
      "1548008755920\n",
      "Wall time: 1.57 s\n"
     ]
    }
   ],
   "source": [
    "%%time\n",
    "\n",
    "\n",
    "def fibo(number):\n",
    "    if number<=1:\n",
    "        return number\n",
    "    fib_numbers=[]\n",
    "    for i in range(0,number+1):\n",
    "        if i<=1:\n",
    "            current=i\n",
    "        else:\n",
    "            current=fib_numbers[i-1]+fib_numbers[i-2]\n",
    "        fib_numbers.append(current)\n",
    "    \n",
    "    return fib_numbers[-1]\n",
    "\n",
    "if __name__==\"__main__\":\n",
    "    n=int(input())\n",
    "    print(fibo(n))\n",
    "        \n",
    "    \n",
    "    "
   ]
  },
  {
   "cell_type": "markdown",
   "metadata": {},
   "source": [
    "## Last Digit of Fibonnaci Number\n",
    "\n",
    "- only calculating and storing the last digit of every number"
   ]
  },
  {
   "cell_type": "code",
   "execution_count": 27,
   "metadata": {},
   "outputs": [
    {
     "name": "stdout",
     "output_type": "stream",
     "text": [
      "60\n",
      "0\n",
      "Wall time: 1.66 s\n"
     ]
    }
   ],
   "source": [
    "%%time\n",
    "def fibo(number):\n",
    "    if number<=1:\n",
    "        return number\n",
    "    fib_numbers=[]\n",
    "    for i in range(0,n+1):\n",
    "        if i<=1:\n",
    "            current=i\n",
    "        else:\n",
    "            current=fib_numbers[i-1]+fib_numbers[i-2]\n",
    "        fib_numbers.append(current)\n",
    "    \n",
    "    return fib_numbers[-1]%10\n",
    "\n",
    "#alternative mathematical mod%60 approach to calculate the last digit\n",
    "\n",
    "def fibo_s(number):\n",
    "    if number<=1:\n",
    "        return number\n",
    "    else:\n",
    "        \n",
    "        if number<=60:\n",
    "            loop=number\n",
    "        else:\n",
    "            loop=number%60\n",
    "        fib_list=[]\n",
    "        for i in range(0,loop+1):\n",
    "            if i<=1:\n",
    "                current=i\n",
    "            else:\n",
    "                current=fib_list[i-1]+fib_list[i-2]\n",
    "            fib_list.append(current)\n",
    "        return fib_list[-1]%10\n",
    "\n",
    "if __name__==\"__main__\":\n",
    "    n=int(input())\n",
    "    print(fibo(n))\n"
   ]
  },
  {
   "cell_type": "markdown",
   "metadata": {},
   "source": [
    "## Greatest Common Divisor"
   ]
  },
  {
   "cell_type": "code",
   "execution_count": null,
   "metadata": {},
   "outputs": [],
   "source": [
    "def gcd(a,b):\n",
    "\n",
    "    \n",
    "if __name__==\"__init__\":\n",
    "    a,b\n",
    "    \n",
    "    \n",
    "    "
   ]
  }
 ],
 "metadata": {
  "colab": {
   "authorship_tag": "ABX9TyPeTiNCxmanyEvnY2pdoXeo",
   "include_colab_link": true,
   "name": "DSA Python Learning",
   "provenance": []
  },
  "kernelspec": {
   "display_name": "Python 3",
   "language": "python",
   "name": "python3"
  },
  "language_info": {
   "codemirror_mode": {
    "name": "ipython",
    "version": 3
   },
   "file_extension": ".py",
   "mimetype": "text/x-python",
   "name": "python",
   "nbconvert_exporter": "python",
   "pygments_lexer": "ipython3",
   "version": "3.8.8"
  }
 },
 "nbformat": 4,
 "nbformat_minor": 1
}
