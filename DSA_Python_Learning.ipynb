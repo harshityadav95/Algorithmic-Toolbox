{
  "nbformat": 4,
  "nbformat_minor": 0,
  "metadata": {
    "colab": {
      "name": "DSA Python Learning",
      "provenance": [],
      "authorship_tag": "ABX9TyPeTiNCxmanyEvnY2pdoXeo",
      "include_colab_link": true
    },
    "kernelspec": {
      "name": "python3",
      "display_name": "Python 3"
    }
  },
  "cells": [
    {
      "cell_type": "markdown",
      "metadata": {
        "id": "view-in-github",
        "colab_type": "text"
      },
      "source": [
        "<a href=\"https://colab.research.google.com/github/harshityadav95/Algorithmic-Toolbox/blob/master/DSA_Python_Learning.ipynb\" target=\"_parent\"><img src=\"https://colab.research.google.com/assets/colab-badge.svg\" alt=\"Open In Colab\"/></a>"
      ]
    },
    {
      "cell_type": "markdown",
      "metadata": {
        "id": "o1IwyGlghKzc"
      },
      "source": [
        "## Basic Program to Add two numbers\r\n"
      ]
    },
    {
      "cell_type": "code",
      "metadata": {
        "colab": {
          "base_uri": "https://localhost:8080/"
        },
        "id": "e50-INwNhDeQ",
        "outputId": "998f001e-bd46-49ef-cec3-d07994227eec"
      },
      "source": [
        "def sum_of_two_digits(first_digit, second_digit):\r\n",
        "    return first_digit + second_digit\r\n",
        "\r\n",
        "if __name__ == '__main__':\r\n",
        "    a, b = map(int, input().split())\r\n",
        "    print(sum_of_two_digits(a, b))"
      ],
      "execution_count": null,
      "outputs": [
        {
          "output_type": "stream",
          "text": [
            "2 3\n",
            "5\n"
          ],
          "name": "stdout"
        }
      ]
    },
    {
      "cell_type": "markdown",
      "metadata": {
        "id": "mo8cV7sWtM6J"
      },
      "source": [
        "## Maximum Product of two numbers in the Given list\r\n"
      ]
    },
    {
      "cell_type": "code",
      "metadata": {
        "id": "5hyqQ3JItVlc"
      },
      "source": [
        ""
      ],
      "execution_count": null,
      "outputs": []
    }
  ]
}