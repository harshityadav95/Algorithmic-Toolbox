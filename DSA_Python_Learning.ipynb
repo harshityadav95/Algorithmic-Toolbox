{
 "cells": [
  {
   "cell_type": "markdown",
   "metadata": {
    "colab_type": "text",
    "id": "view-in-github"
   },
   "source": [
    "<a href=\"https://colab.research.google.com/github/harshityadav95/Algorithmic-Toolbox/blob/master/DSA_Python_Learning.ipynb\" target=\"_parent\"><img src=\"https://colab.research.google.com/assets/colab-badge.svg\" alt=\"Open In Colab\"/></a>"
   ]
  },
  {
   "cell_type": "markdown",
   "metadata": {
    "id": "o1IwyGlghKzc"
   },
   "source": [
    "## Basic Program to Add two numbers\n"
   ]
  },
  {
   "cell_type": "code",
   "execution_count": 1,
   "metadata": {
    "colab": {
     "base_uri": "https://localhost:8080/"
    },
    "id": "e50-INwNhDeQ",
    "outputId": "998f001e-bd46-49ef-cec3-d07994227eec"
   },
   "outputs": [
    {
     "name": "stdout",
     "output_type": "stream",
     "text": [
      "2 3\n",
      "5\n"
     ]
    }
   ],
   "source": [
    "def sum_of_two_digits(first_digit, second_digit):\n",
    "    return first_digit + second_digit\n",
    "\n",
    "if __name__ == '__main__':\n",
    "    a, b = map(int, input().split())\n",
    "    print(sum_of_two_digits(a, b))"
   ]
  },
  {
   "cell_type": "markdown",
   "metadata": {
    "id": "mo8cV7sWtM6J"
   },
   "source": [
    "## Maximum Product of two numbers in the Given list\n"
   ]
  },
  {
   "cell_type": "code",
   "execution_count": 4,
   "metadata": {
    "id": "5hyqQ3JItVlc"
   },
   "outputs": [
    {
     "name": "stdout",
     "output_type": "stream",
     "text": [
      "5\n",
      "9 1 1 1 1\n",
      "9\n"
     ]
    }
   ],
   "source": [
    "def maxProduct(numbers):\n",
    "    numbers.sort()\n",
    "    return(numbers[-1]*numbers[-2])\n",
    "\n",
    "if __name__==\"__main__\":\n",
    "    n=int(input())\n",
    "    list_numbers=[int(x) for x in input().split()]\n",
    "    print(maxProduct(list_numbers))    "
   ]
  },
  {
   "cell_type": "markdown",
   "metadata": {},
   "source": [
    "## Find the nth Fibonacci Number\n",
    "\n",
    "-- this creates tree stack which hits the memory limitation of the stack, like in c++ there is stack memory limit of 1 MB and which can be overriden\n"
   ]
  },
  {
   "cell_type": "code",
   "execution_count": 13,
   "metadata": {},
   "outputs": [
    {
     "name": "stdout",
     "output_type": "stream",
     "text": [
      "13\n",
      "233\n",
      "Wall time: 3.23 s\n"
     ]
    }
   ],
   "source": [
    "%%time\n",
    "def fibo(number):\n",
    "    if number<=1:\n",
    "        return number\n",
    "    else:\n",
    "        return fibo(number-1)+fibo(number-2)\n",
    "if __name__==\"__main__\":\n",
    "    number=int(input())\n",
    "    print(fibo(number))"
   ]
  },
  {
   "cell_type": "markdown",
   "metadata": {},
   "source": [
    "## Fast way to find Nth Fibonacci Number\n",
    "\n",
    "- this uses the iterative approach and uses less timer and can utilize the system RAM to utilize \n"
   ]
  },
  {
   "cell_type": "code",
   "execution_count": 19,
   "metadata": {},
   "outputs": [
    {
     "name": "stdout",
     "output_type": "stream",
     "text": [
      "239\n",
      "39679027332006820581608740953902289877834488152161\n",
      "Wall time: 3.44 s\n"
     ]
    }
   ],
   "source": [
    "%%time\n",
    "\n",
    "\n",
    "def fibo(number):\n",
    "    if number<=1:\n",
    "        return number\n",
    "    fib_numbers=[]\n",
    "    for i in range(0,number+1):\n",
    "        if i<=1:\n",
    "            current=i\n",
    "        else:\n",
    "            current=fib_numbers[i-1]+fib_numbers[i-2]\n",
    "        fib_numbers.append(current)\n",
    "    \n",
    "    return fib_numbers[-1]\n",
    "\n",
    "if __name__==\"__main__\":\n",
    "    n=int(input())\n",
    "    print(fibo(n))\n",
    "        \n",
    "    \n",
    "    "
   ]
  },
  {
   "cell_type": "markdown",
   "metadata": {},
   "source": [
    "## Last Digit of Fibonnaci Number\n",
    "\n",
    "- only calculating and storing the last digit of every number"
   ]
  },
  {
   "cell_type": "code",
   "execution_count": 24,
   "metadata": {},
   "outputs": [
    {
     "name": "stdout",
     "output_type": "stream",
     "text": [
      "239\n",
      "41\n",
      "Wall time: 2.36 s\n"
     ]
    }
   ],
   "source": [
    "%%time\n",
    "def fibo(number):\n",
    "    if number<=1:\n",
    "        return number\n",
    "    fib_numbers=[]\n",
    "    for i in range(0,n+1):\n",
    "        if i<=1:\n",
    "            current=i\n",
    "        else:\n",
    "            current=fib_numbers[i-1]+fib_numbers[i-2]\n",
    "        fib_numbers.append(current)\n",
    "    \n",
    "    return fib_numbers[-1]%10\n",
    "\n",
    "#alternative mathematical mod%60 approach to calculate the last digit\n",
    "\n",
    "def fibo_s(number):\n",
    "    if number<=1:\n",
    "        return number\n",
    "    else:\n",
    "        \n",
    "        if number<=60:\n",
    "            loop=number\n",
    "        else:\n",
    "            loop=number%60\n",
    "        fib_list=[]\n",
    "        for i in range(0,loop+1):\n",
    "            if i<=1:\n",
    "                current=i\n",
    "            else:\n",
    "                current=fib_list[i-1]+fib_list[i-2]\n",
    "            fib_list.append(current)\n",
    "        return fib_list[-1]%10\n",
    "\n",
    "if __name__==\"__main__\":\n",
    "    n=int(input())\n",
    "    print(fibo_s(n))\n"
   ]
  },
  {
   "cell_type": "markdown",
   "metadata": {},
   "source": [
    "## Greatest Common Divisor\n",
    "\n",
    "- [Link for the Method](https://www.geeksforgeeks.org/c-program-find-gcd-hcf-two-numbers/)"
   ]
  },
  {
   "cell_type": "code",
   "execution_count": 3,
   "metadata": {},
   "outputs": [
    {
     "name": "stdout",
     "output_type": "stream",
     "text": [
      "28851538 1183019\n",
      "17657\n",
      "Wall time: 16.5 s\n"
     ]
    }
   ],
   "source": [
    "%%time\n",
    "def gcd(a,b):\n",
    "    if a==0:\n",
    "        return b\n",
    "    return gcd(b%a,a)\n",
    "    \n",
    "if __name__==\"__main__\":\n",
    "    a,b=map(int,input().split())\n",
    "    print(gcd(a,b))\n",
    "    \n",
    "    \n",
    "    "
   ]
  },
  {
   "cell_type": "markdown",
   "metadata": {},
   "source": [
    "## LCM of 2 numbers"
   ]
  },
  {
   "cell_type": "code",
   "execution_count": 18,
   "metadata": {},
   "outputs": [
    {
     "name": "stdout",
     "output_type": "stream",
     "text": [
      "761457 614573\n",
      "467970912861.0\n",
      "Wall time: 1.79 s\n"
     ]
    }
   ],
   "source": [
    "%%time\n",
    "##lcm using gcd\n",
    "def gcd(a,b):\n",
    "    if a==0:\n",
    "        return b\n",
    "    return gcd(b%a,a)\n",
    "\n",
    "def lcm(a,b):\n",
    "    return (a / gcd(a,b))* b\n",
    "\n",
    "def lcm_alone(a,b):\n",
    "    lar = max(a,b)\n",
    "    small = min(a,b)\n",
    "    i = lar\n",
    "    while(1) :\n",
    "        if (i % small == 0):\n",
    "            return i\n",
    "        i += lar    \n",
    "    \n",
    "        \n",
    "    \n",
    "\n",
    "if __name__==\"__main__\":\n",
    "    a,b=map(int,input().split())\n",
    "    print(lcm(a,b))\n",
    "    \n",
    "#761457 614573\n",
    "#467970912861\n",
    "     "
   ]
  },
  {
   "cell_type": "markdown",
   "metadata": {},
   "source": [
    "## **Fibonacci Number modulo M and Pisano Period\n",
    "- [Source](https://www.geeksforgeeks.org/fibonacci-number-modulo-m-and-pisano-period/)\n",
    "\n"
   ]
  },
  {
   "cell_type": "code",
   "execution_count": 27,
   "metadata": {},
   "outputs": [
    {
     "name": "stdout",
     "output_type": "stream",
     "text": [
      "2816213588 239\n",
      "151\n"
     ]
    }
   ],
   "source": [
    "def pisanoPeriod(m):\n",
    "    previous, current = 0, 1\n",
    "    for i in range(0, m * m):\n",
    "        previous, current \\\n",
    "        = current, (previous + current) % m\n",
    "         \n",
    "        # A Pisano Period starts with 01\n",
    "        if (previous == 0 and current == 1):\n",
    "            return i + 1\n",
    " \n",
    "def fibonacciModulo(n, m):\n",
    "     \n",
    "    # Getting the period\n",
    "    pisano_period = pisanoPeriod(m)\n",
    "     \n",
    "    # Taking mod of N with\n",
    "    # period length\n",
    "    n = n % pisano_period\n",
    "     \n",
    "    previous, current = 0, 1\n",
    "    if n==0:\n",
    "        return 0\n",
    "    elif n==1:\n",
    "        return 1\n",
    "    for i in range(n-1):\n",
    "        previous, current \\\n",
    "        = current, previous + current\n",
    "         \n",
    "    return (current % m)\n",
    " \n",
    "# Driver Code\n",
    "if __name__ == '__main__':\n",
    "    n,m=map(int,input().split())\n",
    "    print(fibonacciModulo(n, m))"
   ]
  },
  {
   "cell_type": "markdown",
   "metadata": {},
   "source": [
    "## Last Digit of the Sum of Fibonaaci Number\n",
    "\n",
    "- [Source](https://stackoverflow.com/questions/52487490/sum-of-n-numbers-in-fibonacci)"
   ]
  },
  {
   "cell_type": "code",
   "execution_count": 34,
   "metadata": {},
   "outputs": [
    {
     "name": "stdout",
     "output_type": "stream",
     "text": [
      "100\n",
      "5\n"
     ]
    }
   ],
   "source": [
    "def fibo(n):\n",
    "    counter = 1\n",
    "    old_num = 0\n",
    "    new_num = 1\n",
    "    sum_fib = 1\n",
    "    while counter < n:\n",
    "        fib = old_num + new_num\n",
    "        if counter < n:\n",
    "            old_num = new_num\n",
    "            new_num = fib\n",
    "            sum_fib = sum_fib + fib\n",
    "            counter = counter + 1\n",
    "    return (sum_fib)%10\n",
    "    \n",
    "if __name__==\"__main__\":\n",
    "    n=int(input())\n",
    "    print(fibo(n))"
   ]
  },
  {
   "cell_type": "markdown",
   "metadata": {},
   "source": [
    "## Sum of Fibonacci Numbers range"
   ]
  },
  {
   "cell_type": "code",
   "execution_count": 36,
   "metadata": {},
   "outputs": [
    {
     "name": "stdout",
     "output_type": "stream",
     "text": [
      "10 10\n",
      "55\n"
     ]
    }
   ],
   "source": [
    "def fibo(n,m):\n",
    "    counter = 1\n",
    "    old_num = 0\n",
    "    new_num = 1\n",
    "    sum_fib = 1\n",
    "    tot=0\n",
    "    while counter < n:\n",
    "        fib = old_num + new_num\n",
    "        if counter < n:\n",
    "            old_num = new_num\n",
    "            new_num = fib\n",
    "            sum_fib = sum_fib + fib\n",
    "            counter = counter + 1\n",
    "            if(counter>=m):\n",
    "                tot+=fib\n",
    "    return (tot)\n",
    "    \n",
    "if __name__==\"__main__\":\n",
    "    m,n=map(int,input().split())\n",
    "    print(fibo(n,m))"
   ]
  },
  {
   "cell_type": "markdown",
   "metadata": {},
   "source": [
    "## Last Digit of the Sum of Squares of Fibonacci Numbers\n"
   ]
  },
  {
   "cell_type": "code",
   "execution_count": 37,
   "metadata": {},
   "outputs": [
    {
     "name": "stdout",
     "output_type": "stream",
     "text": [
      "73\n",
      "1\n"
     ]
    }
   ],
   "source": [
    "def fibo(n):\n",
    "    counter = 1\n",
    "    old_num = 0\n",
    "    new_num = 1\n",
    "    sum_fib = 1\n",
    "    while counter < n:\n",
    "        fib = old_num + new_num\n",
    "        if counter < n:\n",
    "            old_num = new_num\n",
    "            new_num = fib\n",
    "            sum_fib = sum_fib + (fib**2)\n",
    "            counter = counter + 1\n",
    "    return (sum_fib)%10\n",
    "    \n",
    "if __name__==\"__main__\":\n",
    "    n=int(input())\n",
    "    print(fibo(n))"
   ]
  },
  {
   "cell_type": "markdown",
   "metadata": {},
   "source": [
    "## Greedy Stratergy\n",
    "\n",
    "- Make some greedy choice\n",
    "- Reduce to a smaller problem\n",
    "- Iterate\n",
    "\n",
    "- Find the safe moves and convert it into subproblem\n",
    "- Prove that it is a safe move\n",
    "- Problem ----> Greedy choice ---> Safe Move ---> Subproblem  \n",
    "\n",
    "\n",
    "Problem Hints: \n",
    "- Make biggest number from  [9,9,1,2,3] is same as farthest refuelling problem "
   ]
  },
  {
   "cell_type": "markdown",
   "metadata": {},
   "source": [
    "## Money Change Problem \n",
    "\n",
    "- Compute the minimum number of coins needed\n",
    "to change the given value into coins with denom\u0002inations 1, 5, and 10"
   ]
  },
  {
   "cell_type": "code",
   "execution_count": 10,
   "metadata": {},
   "outputs": [
    {
     "name": "stdout",
     "output_type": "stream",
     "text": [
      "28\n",
      "6\n",
      "6\n"
     ]
    }
   ],
   "source": [
    "def changemoney(money):\n",
    "    num_coins=0\n",
    "    while(money>0):\n",
    "        if money>=10:\n",
    "            money-=10\n",
    "            num_coins+=1\n",
    "        elif money>=5:\n",
    "            money-=5\n",
    "            num_coins+=1\n",
    "        elif money>=1:\n",
    "            money-=1\n",
    "            num_coins+=1\n",
    "           \n",
    "    return num_coins \n",
    "\n",
    "def moneyliner(money):\n",
    "    return (money//10)+ ((money%10)//5)+((money%5))\n",
    "\n",
    "if __name__==\"__main__\":\n",
    "    money=int(input())\n",
    "    print(changemoney(money))   \n",
    "    print(moneyliner(money))\n",
    "    "
   ]
  },
  {
   "cell_type": "markdown",
   "metadata": {},
   "source": [
    "##  "
   ]
  },
  {
   "cell_type": "code",
   "execution_count": null,
   "metadata": {},
   "outputs": [],
   "source": []
  }
 ],
 "metadata": {
  "colab": {
   "authorship_tag": "ABX9TyPeTiNCxmanyEvnY2pdoXeo",
   "include_colab_link": true,
   "name": "DSA Python Learning",
   "provenance": []
  },
  "kernelspec": {
   "display_name": "Python 3",
   "language": "python",
   "name": "python3"
  },
  "language_info": {
   "codemirror_mode": {
    "name": "ipython",
    "version": 3
   },
   "file_extension": ".py",
   "mimetype": "text/x-python",
   "name": "python",
   "nbconvert_exporter": "python",
   "pygments_lexer": "ipython3",
   "version": "3.8.8"
  }
 },
 "nbformat": 4,
 "nbformat_minor": 1
}
